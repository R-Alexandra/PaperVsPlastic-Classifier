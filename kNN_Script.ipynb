{
 "cells": [
  {
   "cell_type": "code",
   "execution_count": null,
   "metadata": {
    "id": "0a1T4hOarwiU"
   },
   "outputs": [],
   "source": [
    "import os\n",
    "import cv2\n",
    "import numpy as np\n",
    "import pandas as pd\n",
    "from sklearn.neighbors import KNeighborsClassifier\n",
    "from sklearn.metrics import accuracy_score, classification_report, confusion_matrix\n",
    "from skimage.feature import local_binary_pattern\n",
    "from sklearn.preprocessing import LabelEncoder, StandardScaler\n",
    "import matplotlib.pyplot as plt\n",
    "import seaborn as sns\n",
    "\n",
    "dataset_folder = '/drive/Colab Notebooks/Dataset/Train'\n",
    "valid_folder = '/drive/Colab Notebooks/Dataset/Valid'\n",
    "test_folder = '/drive/Colab Notebooks/Dataset/Test'"
   ]
  },
  {
   "cell_type": "code",
   "execution_count": null,
   "metadata": {
    "id": "ouwqH8Hjr6bI"
   },
   "outputs": [],
   "source": [
    "# Functie pentru a incarca imaginile dintr-un folder si a atribui etichete\n",
    "def load_images_from_folder(folder, target_shape=(300, 300)):\n",
    "    images = []\n",
    "    labels = []\n",
    "    for subfolder in os.listdir(folder):\n",
    "        subfolder_path = os.path.join(folder, subfolder)\n",
    "        if os.path.isdir(subfolder_path):\n",
    "            for filename in os.listdir(subfolder_path):\n",
    "                if filename.endswith(('.jpeg', '.jpg', '.png')):\n",
    "                    img = cv2.imread(os.path.join(subfolder_path, filename))\n",
    "                    if img is not None:\n",
    "                        if target_shape is not None:\n",
    "                            img = cv2.resize(img, target_shape)\n",
    "                        images.append(img)\n",
    "                        labels.append(subfolder)\n",
    "                    else:\n",
    "                        print(f\"Warning: Unable to load {filename}\")\n",
    "    return images, labels\n",
    "\n",
    "# Functie pentru a extrage caracteristici ale histogramei de culoare\n",
    "def extract_color_histogram(images, bins=8):\n",
    "    features = []\n",
    "    for img in images:\n",
    "        hsv = cv2.cvtColor(img, cv2.COLOR_BGR2HSV)\n",
    "        hist = cv2.calcHist([hsv], [0, 1, 2], None, [bins, bins, bins], [0, 180, 0, 256, 0, 256])\n",
    "        hist = cv2.normalize(hist, hist).flatten()\n",
    "        features.append(hist)\n",
    "    return np.array(features)\n",
    "\n",
    "# Functie pentru a extrage caracteristici de textura\n",
    "def extract_lbp_features(images, radius=1, n_points=8):\n",
    "    features = []\n",
    "    for img in images:\n",
    "        gray = cv2.cvtColor(img, cv2.COLOR_BGR2GRAY)\n",
    "        lbp = local_binary_pattern(gray, n_points, radius, method='uniform')\n",
    "        (hist, _) = np.histogram(lbp.ravel(), bins=np.arange(0, n_points + 3), range=(0, n_points + 2))\n",
    "        hist = hist.astype('float')\n",
    "        hist /= (hist.sum() + 1e-6)\n",
    "        features.append(hist)\n",
    "    return np.array(features)\n",
    "\n",
    "# Functie pentru a combina toate caracteristicile\n",
    "def combine_features(images):\n",
    "    color_histogram = extract_color_histogram(images)\n",
    "    lbp_features = extract_lbp_features(images)\n",
    "    return np.hstack([color_histogram, lbp_features])"
   ]
  },
  {
   "cell_type": "code",
   "execution_count": null,
   "metadata": {
    "id": "X0w7OSqxsNhr"
   },
   "outputs": [],
   "source": [
    "# Functie pentru afisat imaginile clasificate\n",
    "def display_images_with_labels(images, true_labels, predicted_labels, class_mapping, etapa):\n",
    "    for i, (image, true_label, pred_label) in enumerate(zip(images, true_labels, predicted_labels)):\n",
    "        plt.figure(figsize=(4, 4))\n",
    "        plt.imshow(cv2.cvtColor(image, cv2.COLOR_BGR2RGB))\n",
    "        plt.title(f\"Real: {class_mapping[true_label]} | Prezis: {class_mapping[pred_label]}\")\n",
    "        plt.axis('off')\n",
    "        plt.show()\n",
    "\n",
    "# Functie pentru salvat rezultate\n",
    "def save_results(etapa, y_true, y_pred, class_mapping):\n",
    "    results_df = pd.DataFrame({'Clasa Reală': [class_mapping[label] for label in y_true],\n",
    "                               'Clasa Prezisă': [class_mapping[label] for label in y_pred]})\n",
    "    results_folder = '/drive/Colab Notebooks/Dataset/Results_KNN'\n",
    "    if not os.path.exists(results_folder):\n",
    "        os.makedirs(results_folder)\n",
    "    results_file = os.path.join(results_folder, f'{etapa}_results.csv')\n",
    "    results_df.to_csv(results_file, index=False)\n",
    "    print(f'Rezultate pentru {etapa} la {results_file}')\n",
    "\n",
    "# Functie pentru salvat imaginile clasificate\n",
    "def save_classified_images(X_data, y_true, y_pred, class_mapping, etapa):\n",
    "    results_folder = f'/drive/Colab Notebooks/Dataset/Results_KNN/Images_{etapa}'\n",
    "    if not os.path.exists(results_folder):\n",
    "        os.makedirs(results_folder)\n",
    "    for idx, (true_label, pred_label) in enumerate(zip(y_true, y_pred)):\n",
    "        image = X_data[idx]\n",
    "        plt.imshow(cv2.cvtColor(image, cv2.COLOR_BGR2RGB))\n",
    "        plt.title(f'Clasa Reală: {class_mapping[true_label]}\\n Clasa Prezisă: {class_mapping[pred_label]}')\n",
    "        plt.savefig(os.path.join(results_folder, f'{etapa}_image_{idx}.png'))\n",
    "        plt.close()\n",
    "\n",
    "# Functie de predictie si evaluare\n",
    "def evaluate_model(X_data, y_true, etapa):\n",
    "    y_pred = knn_model.predict(X_data)\n",
    "    accuracy = accuracy_score(y_true, y_pred)\n",
    "    print(f\"{etapa} Acuratețe: {accuracy:.4f}\")\n",
    "    print(f\"{etapa} Raport de Clasificare:\")\n",
    "    print(classification_report(y_true, y_pred, target_names=label_encoder.classes_))\n",
    "\n",
    "    conf_matrix = confusion_matrix(y_true, y_pred)\n",
    "    plt.figure(figsize=(10, 7))\n",
    "    sns.heatmap(conf_matrix, annot=True, fmt='d', cmap='Blues', xticklabels=label_encoder.classes_, yticklabels=label_encoder.classes_)\n",
    "    plt.title(f'{etapa} Matrice de Confuzie')\n",
    "    plt.xlabel('Prezis')\n",
    "    plt.ylabel('Real')\n",
    "    plt.show()\n",
    "\n",
    "    display_images_with_labels(valid_images if etapa == 'Validare' else test_images, y_true, y_pred, {idx: label for idx, label in enumerate(label_encoder.classes_)}, etapa)\n",
    "    save_results(etapa, y_true, y_pred, {idx: label for idx, label in enumerate(label_encoder.classes_)})\n",
    "    save_classified_images(valid_images if etapa == 'Validare' else test_images, y_true, y_pred, {idx: label for idx, label in enumerate(label_encoder.classes_)}, etapa.lower())"
   ]
  },
  {
   "cell_type": "code",
   "execution_count": null,
   "metadata": {
    "colab": {
     "base_uri": "https://localhost:8080/"
    },
    "executionInfo": {
     "elapsed": 31333,
     "status": "ok",
     "timestamp": 1737035587913,
     "user": {
      "displayName": "ALEXANDRA RADULESCU",
      "userId": "04149137308524819577"
     },
     "user_tz": -120
    },
    "id": "gy8wagMZsarD",
    "outputId": "7a532ada-f5a8-44de-b20c-f11beeab1ccd"
   },
   "outputs": [
    {
     "name": "stdout",
     "output_type": "stream",
     "text": [
      "Acuratețe Antrenare: 0.8321428571428572\n"
     ]
    }
   ],
   "source": [
    "# Incarca si proceseaza datele de antrenare\n",
    "dataset_images, dataset_labels = load_images_from_folder(dataset_folder)\n",
    "\n",
    "X_train = combine_features(dataset_images)\n",
    "label_encoder = LabelEncoder()\n",
    "y_train = label_encoder.fit_transform(dataset_labels)\n",
    "\n",
    "# Scaleaza\n",
    "scaler = StandardScaler()\n",
    "X_train = scaler.fit_transform(X_train)\n",
    "\n",
    "# Antreneaza cu k ul dorit (n_neighbors)\n",
    "knn_model = KNeighborsClassifier(n_neighbors=3)\n",
    "knn_model.fit(X_train, y_train)\n",
    "\n",
    "# Predictie pe datele de antrenament\n",
    "y_train_pred = knn_model.predict(X_train)\n",
    "\n",
    "# Calculeaza acuratetea pe datele de antrenare\n",
    "train_accuracy = accuracy_score(y_train, y_train_pred)\n",
    "print(\"Acuratete Antrenare:\", train_accuracy)"
   ]
  },
  {
   "cell_type": "code",
   "execution_count": null,
   "metadata": {
    "colab": {
     "base_uri": "https://localhost:8080/",
     "height": 1000,
     "output_embedded_package_id": "1YGqrWJxPtaJ-ZYyqvgaARRfCjdlWO7a_"
    },
    "executionInfo": {
     "elapsed": 80869,
     "status": "ok",
     "timestamp": 1737035676074,
     "user": {
      "displayName": "ALEXANDRA RADULESCU",
      "userId": "04149137308524819577"
     },
     "user_tz": -120
    },
    "id": "mubXec82tgKv",
    "outputId": "c779ce92-a32b-478f-d43b-18601762fd46"
   },
   "outputs": [
    {
     "data": {
      "text/plain": [
       "Output hidden; open in https://colab.research.google.com to view."
      ]
     },
     "metadata": {},
     "output_type": "display_data"
    }
   ],
   "source": [
    "# Date de validare\n",
    "valid_images, valid_labels = load_images_from_folder(valid_folder)\n",
    "X_valid = combine_features(valid_images)\n",
    "X_valid = scaler.transform(X_valid)\n",
    "y_valid = label_encoder.transform(valid_labels)\n",
    "evaluate_model(X_valid, y_valid, \"Validare\")"
   ]
  },
  {
   "cell_type": "code",
   "execution_count": null,
   "metadata": {
    "colab": {
     "base_uri": "https://localhost:8080/",
     "height": 1000,
     "output_embedded_package_id": "1GPMyEHYyQGrpmBCfeTzLvmJPUDLR2dPB"
    },
    "executionInfo": {
     "elapsed": 72119,
     "status": "ok",
     "timestamp": 1737035762371,
     "user": {
      "displayName": "ALEXANDRA RADULESCU",
      "userId": "04149137308524819577"
     },
     "user_tz": -120
    },
    "id": "kRQ2H9VcQ6tU",
    "outputId": "b1421355-f9d4-4401-f8ee-f0fd4af0477a"
   },
   "outputs": [
    {
     "data": {
      "text/plain": [
       "Output hidden; open in https://colab.research.google.com to view."
      ]
     },
     "metadata": {},
     "output_type": "display_data"
    }
   ],
   "source": [
    "# Date de testare\n",
    "test_images, test_labels = load_images_from_folder(test_folder)\n",
    "X_test = combine_features(test_images)\n",
    "X_test = scaler.transform(X_test)\n",
    "y_test = label_encoder.transform(test_labels)\n",
    "evaluate_model(X_test, y_test, \"Testare\")\n"
   ]
  }
 ],
 "metadata": {
  "colab": {
   "authorship_tag": "ABX9TyMmxw64dxBBfodPLDcM89JC",
   "mount_file_id": "1mJfN1CbcxcQOveACVSXXy_-WRUySVOB4",
   "provenance": [
    {
     "file_id": "1JxPTFsT5zaqGds5pl9sDETNXxyOzFrld",
     "timestamp": 1737023186252
    },
    {
     "file_id": "1kju3FWtkeERqjoI-GoUVaAHaRLeTqKeB",
     "timestamp": 1736769523861
    },
    {
     "file_id": "1BL8dS-bWtegjWhSi4fpsZPLEYPoaCW1n",
     "timestamp": 1734424529104
    },
    {
     "file_id": "1_rxTNOFmA8CU-5rJK4BjRjkRf7PNq5By",
     "timestamp": 1733947140107
    },
    {
     "file_id": "1DRUwiY0FtMVQZHlrYA4bmagkezFIB1Gb",
     "timestamp": 1733946497564
    }
   ]
  },
  "kernelspec": {
   "display_name": "Python 3",
   "name": "python3"
  },
  "language_info": {
   "name": "python"
  }
 },
 "nbformat": 4,
 "nbformat_minor": 0
}
